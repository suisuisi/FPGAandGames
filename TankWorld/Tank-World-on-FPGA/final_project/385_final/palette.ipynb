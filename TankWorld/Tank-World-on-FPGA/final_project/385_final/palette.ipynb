{
 "cells": [
  {
   "cell_type": "code",
   "execution_count": 7,
   "metadata": {},
   "outputs": [
    {
     "name": "stdout",
     "output_type": "stream",
     "text": [
      "Done\n"
     ]
    }
   ],
   "source": [
    "file1 = open('palette.sv', 'w')\n",
    "file1.write(\"module palette (\\n\")\n",
    "file1.write(\"               input logic [11:0] RGB_12,\\n\")\n",
    "file1.write(\"               output logic [7:0] R, G, B\\n\")\n",
    "file1.write(\"               );\\n\")\n",
    "file1.write(\"logic [23:0] out;\\n\")\n",
    "file1.write(\"assign R = out[23:16];\\n\")\n",
    "file1.write(\"assign G = out[15:8];\\n\")\n",
    "file1.write(\"assign B = out[7:0];\\n\")\n",
    "file1.write('\\n')\n",
    "file1.write('always_comb\\n')\n",
    "file1.write('    begin\\n')\n",
    "file1.write('        case (RGB_12)\\n')\n",
    "for number in range(4096):\n",
    "    index = format(number, '03x')\n",
    "    idx = format(number, '03x')\n",
    "    short_rgb = \"12'h\" + index + ':  '\n",
    "    full_rgb = \"24'h\" +  idx[0] + '0' + idx[1] + '0' + idx[2] + '0' + ';'\n",
    "    if number == 0 or number == 2880 or number == 4095:\n",
    "        file1.write('             ' + short_rgb + 'out = ' + full_rgb + '\\n')\n",
    "file1.write('        endcase\\n')\n",
    "file1.write('    end\\n')\n",
    "file1.write('\\n')\n",
    "file1.write('endmodule\\n')            \n",
    "print('Done')"
   ]
  },
  {
   "cell_type": "code",
   "execution_count": null,
   "metadata": {},
   "outputs": [],
   "source": [
    "file2 = open('background.ram', 'w')\n",
    "file3 = open('out2.png.txt', 'r')\n",
    "file4 = "
   ]
  }
 ],
 "metadata": {
  "kernelspec": {
   "display_name": "Python 3",
   "language": "python",
   "name": "python3"
  },
  "language_info": {
   "codemirror_mode": {
    "name": "ipython",
    "version": 3
   },
   "file_extension": ".py",
   "mimetype": "text/x-python",
   "name": "python",
   "nbconvert_exporter": "python",
   "pygments_lexer": "ipython3",
   "version": "3.7.6"
  }
 },
 "nbformat": 4,
 "nbformat_minor": 4
}
