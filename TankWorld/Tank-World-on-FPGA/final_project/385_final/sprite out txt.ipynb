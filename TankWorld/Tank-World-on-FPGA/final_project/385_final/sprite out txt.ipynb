{
 "cells": [
  {
   "cell_type": "code",
   "execution_count": 5,
   "metadata": {
    "scrolled": true
   },
   "outputs": [
    {
     "name": "stdout",
     "output_type": "stream",
     "text": [
      "Done\n"
     ]
    }
   ],
   "source": [
    "from PIL import Image\n",
    "from collections import Counter\n",
    "from scipy.spatial import KDTree\n",
    "import numpy as np\n",
    "def hex_to_rgb(num):\n",
    "    h = str(num)\n",
    "    return int(h[0:4], 16), int(('0x' + h[4:6]), 16), int(('0x' + h[6:8]), 16)\n",
    "def rgb_to_hex(num):\n",
    "    h = str(num)\n",
    "    return int(h[0:4], 16), int(('0x' + h[4:6]), 16), int(('0x' + h[6:8]), 16)\n",
    "\n",
    "\n",
    "im = Image.open(\"out2.png\") #Can be many different formats.\n",
    "im = im.convert(\"RGBA\")\n",
    "\n",
    "outImg = Image.new('RGB', im.size, color='white')\n",
    "outFile = open(\"out23.txt\", 'w')\n",
    "for y in range(im.size[1]):\n",
    "    for x in range(im.size[0]):\n",
    "        pixel = im.getpixel((x,y))\n",
    "#         print(pixel)\n",
    "        outImg.putpixel((x,y), pixel)\n",
    "        r, g, b, a = im.getpixel((x,y))\n",
    "        key_r = ((r & 240) >> 4) << 8\n",
    "        key_g = ((g & 240) >> 4) << 4\n",
    "        key_b = ((b & 240) >> 4) \n",
    "        rgb = key_r + key_g + key_b\n",
    "        rgb_int = format(rgb, '04d')\n",
    "        outFile.write(rgb_int + '\\n')\n",
    "outFile.close()\n",
    "outImg.save(\"out3.png\")\n",
    "print(\"Done\")"
   ]
  },
  {
   "cell_type": "code",
   "execution_count": null,
   "metadata": {},
   "outputs": [],
   "source": []
  },
  {
   "cell_type": "code",
   "execution_count": null,
   "metadata": {},
   "outputs": [],
   "source": []
  },
  {
   "cell_type": "code",
   "execution_count": null,
   "metadata": {},
   "outputs": [],
   "source": []
  },
  {
   "cell_type": "code",
   "execution_count": null,
   "metadata": {},
   "outputs": [],
   "source": []
  }
 ],
 "metadata": {
  "kernelspec": {
   "display_name": "Python 3",
   "language": "python",
   "name": "python3"
  },
  "language_info": {
   "codemirror_mode": {
    "name": "ipython",
    "version": 3
   },
   "file_extension": ".py",
   "mimetype": "text/x-python",
   "name": "python",
   "nbconvert_exporter": "python",
   "pygments_lexer": "ipython3",
   "version": "3.7.6"
  }
 },
 "nbformat": 4,
 "nbformat_minor": 4
}
