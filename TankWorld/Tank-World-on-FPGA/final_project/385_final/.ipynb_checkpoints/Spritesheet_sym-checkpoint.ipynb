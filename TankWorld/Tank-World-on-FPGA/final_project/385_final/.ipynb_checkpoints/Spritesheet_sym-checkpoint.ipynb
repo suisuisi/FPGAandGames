{
 "cells": [
  {
   "cell_type": "code",
   "execution_count": 1,
   "metadata": {},
   "outputs": [],
   "source": [
    "from PIL import Image\n",
    "TEAL = (0, 128, 128)\n",
    "im = Image.open('sp.png')\n",
    "im.convert('RGB')\n",
    "pix_val = im.load()\n",
    "width, height = im.size\n",
    "for y in range(height):\n",
    "    for x in range(width):\n",
    "        if y > 145 and y < 195 and x < 105:\n",
    "            pix_val[x, y] = TEAL\n",
    "im.save('sp_out.png')            "
   ]
  },
  {
   "cell_type": "code",
   "execution_count": 2,
   "metadata": {},
   "outputs": [],
   "source": [
    "im2 = Image.open('sp_out.png', 'r')\n",
    "im2.convert('RGB')\n",
    "width, height = im2.size\n",
    "pix_val = im2.load()\n",
    "new_pix_dict = {}\n",
    "im3 = Image.new('RGB', (640, 480), 'black')\n",
    "new_pix_val = im3.load()\n",
    "\n",
    "for y in range(480):\n",
    "    for x in range(640):\n",
    "        new_pix_val[x, y] = (pix_val[int(x/640*width), int(y/480*height)][0] & 240, pix_val[int(x/640*width), int(y/480*height)][1] & 240, pix_val[int(x/640*width), int(y/480*height)][2] & 240)\n",
    "\n",
    "im3.save('sp_out2.png')"
   ]
  },
  {
   "cell_type": "code",
   "execution_count": 3,
   "metadata": {},
   "outputs": [
    {
     "name": "stdout",
     "output_type": "stream",
     "text": [
      "Done!\n"
     ]
    }
   ],
   "source": [
    "pix_dict = {}\n",
    "im3 = Image.open('out2.png', 'r')\n",
    "im3.convert('RGB')\n",
    "width, height = im2.size\n",
    "pix_val = im2.load()\n",
    "for y in range(height):\n",
    "    for x in range(width):\n",
    "        pix_dict[x, y] = (format((int(pix_val[x, y][0] & 240) >> 4), 'x') + format((int(pix_val[x, y][1] & 240) >> 4), 'x') + format((int(pix_val[x, y][2] & 240) >> 4), 'x'))\n",
    "        \n",
    "file1 = open('sprite_sym.sv', 'w')\n",
    "file1.write('//Teal 0x088 is the transparent color of sprite sheet.\\n')\n",
    "file1.write('module Background (\\n')\n",
    "file1.write('    input  logic clk, \\n')\n",
    "file1.write('    input  logic [9:0] x, \\n')\n",
    "file1.write('    input  logic [9:0] y, \\n')\n",
    "file1.write('    output logic [11:0] out \\n')\n",
    "file1.write(');\\n')\n",
    "file1.write('    assign logic[9:0] x_in = x;\\n')\n",
    "file1.write('    assign logic[9:0] y_in = y;\\n')\n",
    "file1.write('    assign logic[18:0] index = y_in * 640 + x_in;\\n')\n",
    "file1.write('\\n')\n",
    "file1.write('always_ff @ (posedge clk)\\n')\n",
    "file1.write('    case (index)\\n')\n",
    "for y in range(height):\n",
    "    for x in range(width):\n",
    "          \n",
    "        hex_index = format(y * width + x, '05x')\n",
    "        file1.write(\"      20'h\")\n",
    "        file1.write(hex_index)\n",
    "        file1.write(': ')\n",
    "        file1.write(\"out <= 12'h\")\n",
    "        file1.write(pix_dict[x, y])\n",
    "        file1.write(';\\n')\n",
    "        \n",
    "file1.write('    endcase\\n')\n",
    "file1.write('endmodule\\n')\n",
    "print('Done!')"
   ]
  },
  {
   "cell_type": "code",
   "execution_count": null,
   "metadata": {},
   "outputs": [],
   "source": []
  }
 ],
 "metadata": {
  "kernelspec": {
   "display_name": "Python 3",
   "language": "python",
   "name": "python3"
  },
  "language_info": {
   "codemirror_mode": {
    "name": "ipython",
    "version": 3
   },
   "file_extension": ".py",
   "mimetype": "text/x-python",
   "name": "python",
   "nbconvert_exporter": "python",
   "pygments_lexer": "ipython3",
   "version": "3.7.6"
  }
 },
 "nbformat": 4,
 "nbformat_minor": 2
}
