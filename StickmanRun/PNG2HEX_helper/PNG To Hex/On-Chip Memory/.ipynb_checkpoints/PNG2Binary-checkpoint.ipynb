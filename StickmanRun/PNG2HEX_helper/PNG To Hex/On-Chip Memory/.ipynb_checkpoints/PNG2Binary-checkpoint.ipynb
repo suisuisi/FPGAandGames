{
 "cells": [
  {
   "cell_type": "code",
   "execution_count": 1,
   "metadata": {},
   "outputs": [],
   "source": [
    "from matplotlib import pyplot as plt\n",
    "from PIL import Image\n",
    "import numpy as np"
   ]
  },
  {
   "cell_type": "code",
   "execution_count": 2,
   "metadata": {},
   "outputs": [
    {
     "name": "stdout",
     "output_type": "stream",
     "text": [
      "84\n"
     ]
    }
   ],
   "source": [
    "filename = \"Page1\"\n",
    "im = Image.open(\"./sprite_originals/\" + filename + \".png\") #Can be many different formats.\n",
    "im = im.convert(\"1\")\n",
    "\n",
    "w,h = im.size\n",
    "(left, top, right, bottom) = ( int(w/5), int(h/5), int(w*4/5), int(h*4/5) )\n",
    "im = im.crop((left, top, right, bottom)) \n",
    "newh = 120\n",
    "neww = int(newh/h*w)\n",
    "print(neww)\n",
    "im = im.resize( (neww, newh) )"
   ]
  },
  {
   "cell_type": "code",
   "execution_count": 3,
   "metadata": {},
   "outputs": [],
   "source": [
    "datawidth = neww\n",
    "outFile = open(\"./sprite_bytes/\" + filename + '.txt', 'w')\n",
    "for y in range(im.size[1]):\n",
    "    outFile.write(\"%d'b\" %datawidth)\n",
    "    for x in range(im.size[0]):\n",
    "        pixel = im.getpixel((x,y))\n",
    "        if pixel == 255:\n",
    "            pix = 0\n",
    "        else:\n",
    "            pix = 1\n",
    "        outFile.write(\"%x\" %pix)\n",
    "    outFile.write(\",\\n\")\n",
    "outFile.close()"
   ]
  },
  {
   "cell_type": "code",
   "execution_count": null,
   "metadata": {},
   "outputs": [],
   "source": []
  },
  {
   "cell_type": "code",
   "execution_count": 8,
   "metadata": {},
   "outputs": [
    {
     "name": "stdout",
     "output_type": "stream",
     "text": [
      "84\n",
      "84\n",
      "84\n",
      "84\n",
      "84\n",
      "84\n",
      "84\n",
      "84\n",
      "84\n"
     ]
    }
   ],
   "source": [
    "# Page1.png --> Page9.png\n",
    "\n",
    "outFile = open(\"./sprite_bytes/\" + 'stickman' + '.txt', 'w')\n",
    "\n",
    "outFile.write(\"// height: %d, width: %d\" %(newh,neww))\n",
    "\n",
    "for i in range(1,10):\n",
    "    \n",
    "    filename = \"Page\" + str(i)\n",
    "    im = Image.open(\"./sprite_originals/\" + filename + \".png\") #Can be many different formats.\n",
    "    im = im.convert(\"1\")\n",
    "\n",
    "    w,h = im.size\n",
    "    (left, top, right, bottom) = ( int(w/5), int(h/5), int(w*4/5), int(h*4/5) )\n",
    "    im = im.crop((left, top, right, bottom)) \n",
    "    newh = 120\n",
    "    neww = int(newh/h*w)\n",
    "    print(neww)\n",
    "    im = im.resize( (neww, newh) )\n",
    "    \n",
    "    \n",
    "    # write txt\n",
    "    datawidth = neww\n",
    "    outFile.write(\"\\n//Page %d\\n\" %i)\n",
    "    for y in range(im.size[1]):\n",
    "        outFile.write(\"%d'b\" %datawidth)\n",
    "        for x in range(im.size[0]):\n",
    "            pixel = im.getpixel((x,y))\n",
    "            if pixel == 255:\n",
    "                pix = 0\n",
    "            else:\n",
    "                pix = 1\n",
    "            outFile.write(\"%x\" %pix)\n",
    "        outFile.write(\",\\n\")\n",
    "\n",
    "outFile.close()"
   ]
  },
  {
   "cell_type": "code",
   "execution_count": null,
   "metadata": {},
   "outputs": [],
   "source": []
  }
 ],
 "metadata": {
  "kernelspec": {
   "display_name": "Python 3",
   "language": "python",
   "name": "python3"
  },
  "language_info": {
   "codemirror_mode": {
    "name": "ipython",
    "version": 3
   },
   "file_extension": ".py",
   "mimetype": "text/x-python",
   "name": "python",
   "nbconvert_exporter": "python",
   "pygments_lexer": "ipython3",
   "version": "3.7.3"
  }
 },
 "nbformat": 4,
 "nbformat_minor": 2
}
